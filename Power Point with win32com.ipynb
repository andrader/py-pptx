{
 "cells": [
  {
   "cell_type": "markdown",
   "id": "c971d9de",
   "metadata": {},
   "source": [
    "# Resources\n",
    "\n",
    "https://www.s-anand.net/blog/automating-powerpoint-with-python/\n",
    "\n",
    "https://ericgarlic.blog/2018/03/24/how-to-generate-ms-office-constants/\n",
    "\n",
    "https://ericgarlic.blog/category/win32com/\n",
    "\n",
    "usefull\n",
    "http://timgolden.me.uk/python/win32_how_do_i/generate-a-static-com-proxy.html\n",
    "\n",
    "http://msdn.microsoft.com/en-us/library/ff604967%28office.14%29.aspx\n",
    "\n",
    "https://nbviewer.ipython.org/github/sanand0/ipython-notebooks/blob/master/Office.ipynb"
   ]
  },
  {
   "cell_type": "code",
   "execution_count": 1,
   "id": "f4c2831d",
   "metadata": {},
   "outputs": [
    {
     "name": "stdout",
     "output_type": "stream",
     "text": [
      "3.8.5 (default, Sep  3 2020, 21:29:08) [MSC v.1916 64 bit (AMD64)]\n"
     ]
    },
    {
     "data": {
      "text/plain": [
       "(12, 0, -1)"
      ]
     },
     "execution_count": 1,
     "metadata": {},
     "output_type": "execute_result"
    }
   ],
   "source": [
    "import sys \n",
    "import win32com.client as win32\n",
    "from pathlib import Path\n",
    "\n",
    "print(sys.version)\n",
    "\n",
    "# cria .py com constantes de referencia\n",
    "# constants = [\n",
    "#     (\"Microsoft Office 16.0 Object Library\", \"./MSOconstants/MSO.py\"),\n",
    "#     #(\"Microsoft Excel 16.0 Object Library\",\"./MSOconstants/MSXLS.py\"),\n",
    "#     (r\"C:\\Program Files\\Microsoft Office\\root\\Office16\\MSPPT.OLB\", \"./MSOconstants/MSPPT.py\"),\n",
    "#     #(\"Microsoft Word 16.0 Object Library\",\"./MSOconstants/MSWORD.py\"),\n",
    "# ]\n",
    "# for officeApp in constants:\n",
    "#     print(\"Processing \",officeApp[0])\n",
    "#     sys.argv = ['', \"-o\", officeApp[1], officeApp[0]]\n",
    "#     win32.makepy.main()\n",
    "    \n",
    "    \n",
    "def create_modules(reference: [tuple, str]):\n",
    "    \"\"\"\n",
    "    create .py with constants and enumerations of reference library. \n",
    "    - reference = (reference name, new module path) or reference library file path.\n",
    "    \"\"\"\n",
    "    if isinstance(reference, tuple):\n",
    "        from_path, to_path = reference\n",
    "    elif isinstance(reference, str):\n",
    "        from_path = Path(reference)\n",
    "        assert from_path.exists()\n",
    "        assert from_path.is_file()\n",
    "        to_path = f\"./MSOconstants/{from_path.stem}.py\"\n",
    "    else:\n",
    "        raise ValueError\n",
    "    \n",
    "    print(\"Processing \",from_path, to_path)\n",
    "    sys.argv = ['', \"-o\", str(to_path),str(from_path)]\n",
    "    return win32.makepy.main()\n",
    "\n",
    "if not Path(\"./MSOconstants/MSO.py\").exists():\n",
    "    create_modules((\"Microsoft Office 16.0 Object Library\", \"./MSOconstants/MSO.py\"))\n",
    "if not Path(\"./MSOconstants/MSPPT.py\").exists():\n",
    "    create_modules(r\"C:\\Program Files\\Microsoft Office\\root\\Office16\\MSPPT.OLB\")\n",
    "\n",
    "# importa modulos criados\n",
    "from MSOconstants.MSO import constants as MSO\n",
    "from MSOconstants.MSPPT import constants as MSPPT\n",
    "MSPPT.ppLayoutBlank, MSO.msoFalse, MSO.msoTrue\n",
    "#win32.constants.ppLayoutBlank # sem autocomplete ...."
   ]
  },
  {
   "cell_type": "code",
   "execution_count": 2,
   "id": "0f055f45",
   "metadata": {},
   "outputs": [],
   "source": [
    "app = win32.gencache.EnsureDispatch(\"PowerPoint.Application\")\n",
    "#app = win32.Dispatch(\"PowerPoint.Application\")"
   ]
  },
  {
   "cell_type": "code",
   "execution_count": 3,
   "id": "840cacf1",
   "metadata": {},
   "outputs": [],
   "source": [
    "# abre arquivo\n",
    "ppt = app.Presentations.Open(r'C:\\Users\\rubens\\PROJETOS\\py-pptx\\Presentation1.pptx')"
   ]
  },
  {
   "cell_type": "code",
   "execution_count": 4,
   "id": "a764f806",
   "metadata": {},
   "outputs": [],
   "source": [
    "# primeiro slide\n",
    "slide = ppt.Slides(1)#.Duplicate()"
   ]
  },
  {
   "cell_type": "code",
   "execution_count": 31,
   "id": "78a490cd",
   "metadata": {},
   "outputs": [
    {
     "name": "stdout",
     "output_type": "stream",
     "text": [
      "sh_tpt.Top = 65.91551208496094, sh_tpt.Left = 45.63378143310547,\n",
      "sh_tpt.Width = 819.3803100585938, sh_tpt.Height = 150.80377197265625\n"
     ]
    }
   ],
   "source": [
    "#https://docs.microsoft.com/en-us/office/vba/api/powerpoint.shape\n",
    "sh_tpt = slide.Shapes('prod_group')\n",
    "\n",
    "print(f'{sh_tpt.Top = }, {sh_tpt.Left = },\\n{sh_tpt.Width = }, {sh_tpt.Height = }')"
   ]
  },
  {
   "cell_type": "code",
   "execution_count": 79,
   "id": "dc176060",
   "metadata": {},
   "outputs": [
    {
     "data": {
      "text/html": [
       "<div>\n",
       "<style scoped>\n",
       "    .dataframe tbody tr th:only-of-type {\n",
       "        vertical-align: middle;\n",
       "    }\n",
       "\n",
       "    .dataframe tbody tr th {\n",
       "        vertical-align: top;\n",
       "    }\n",
       "\n",
       "    .dataframe thead th {\n",
       "        text-align: right;\n",
       "    }\n",
       "</style>\n",
       "<table border=\"1\" class=\"dataframe\">\n",
       "  <thead>\n",
       "    <tr style=\"text-align: right;\">\n",
       "      <th></th>\n",
       "      <th>titulo</th>\n",
       "      <th>texto</th>\n",
       "      <th>aberto</th>\n",
       "    </tr>\n",
       "  </thead>\n",
       "  <tbody>\n",
       "    <tr>\n",
       "      <th>0</th>\n",
       "      <td>A</td>\n",
       "      <td>A Lorem ipsum dolor &lt;b&gt;sit amet&lt;/b&gt;, consectet...</td>\n",
       "      <td>1</td>\n",
       "    </tr>\n",
       "    <tr>\n",
       "      <th>1</th>\n",
       "      <td>B</td>\n",
       "      <td>B Lorem ipsum dolor &lt;b&gt;sit amet&lt;/b&gt;, consectet...</td>\n",
       "      <td>1</td>\n",
       "    </tr>\n",
       "    <tr>\n",
       "      <th>2</th>\n",
       "      <td>C</td>\n",
       "      <td>C Lorem ipsum dolor &lt;b&gt;sit amet&lt;/b&gt;, consectet...</td>\n",
       "      <td>0</td>\n",
       "    </tr>\n",
       "  </tbody>\n",
       "</table>\n",
       "</div>"
      ],
      "text/plain": [
       "  titulo                                              texto  aberto\n",
       "0      A  A Lorem ipsum dolor <b>sit amet</b>, consectet...       1\n",
       "1      B  B Lorem ipsum dolor <b>sit amet</b>, consectet...       1\n",
       "2      C  C Lorem ipsum dolor <b>sit amet</b>, consectet...       0"
      ]
     },
     "execution_count": 79,
     "metadata": {},
     "output_type": "execute_result"
    }
   ],
   "source": [
    "import pandas as pd\n",
    "import numpy as np\n",
    "\n",
    "df = pd.DataFrame({\n",
    "    'titulo': list('ABC'),\n",
    "    'texto': [\"\"\"Lorem ipsum dolor <b>sit amet</b>, consectetuer adipiscing elit. Maecenas porttitor congue massa. Fusce posuere, magna sed pulvinar ultricies, purus lectus malesuada libero, sit amet commodo magna eros quis urna.\n",
    "Nunc viverra imperdiet enim. Fusce est. Vivamus a tellus. Pellentesque habitant morbi tristique senectus et netus et malesuada fames ac turpis egestas. Proin pharetra nonummy pede. Mauris et orci.\"\"\"]*3,\n",
    "    'aberto': [1,1,0]\n",
    "})\n",
    "df['texto'] = df['titulo'] + ' ' + df['texto']\n",
    "df"
   ]
  },
  {
   "cell_type": "code",
   "execution_count": 13,
   "id": "a1a66407",
   "metadata": {},
   "outputs": [],
   "source": [
    "# #pd.read_excel('teste.xlsx')\n",
    "# import styleframe as sf\n",
    "\n",
    "# df2  = sf.StyleFrame.read_excel('teste.xlsx')\n",
    "# df2.data_df"
   ]
  },
  {
   "cell_type": "code",
   "execution_count": 82,
   "id": "ced0b195",
   "metadata": {},
   "outputs": [],
   "source": [
    "sh_prev = sh_tpt\n",
    "\n",
    "for i, s in df.iterrows():\n",
    "    \n",
    "    sh = sh_tpt.Duplicate()\n",
    "    sh.Left = sh_tpt.Left\n",
    "    \n",
    "    # atualiza texto, titulo e cadeado\n",
    "    titulo = sh.GroupItems(\"titulo\")\n",
    "    titulo.TextFrame.TextRange.Text = s['titulo']\n",
    "    \n",
    "    texto = sh.GroupItems(\"texto\")\n",
    "    texto.TextFrame.TextRange.Text = s['texto']\n",
    "    texto.TextFrame.TextRange.Characters(5,20).Font.Bold = True\n",
    "    \n",
    "    cadeado = sh.GroupItems(\"cadeado\")\n",
    "    cadeado.Visible = not s['aberto']\n",
    "    \n",
    "    # depois de colocar o texto, ajusta a posição vertical\n",
    "    if sh_prev is sh_tpt:\n",
    "        sh.Top = sh_prev.Top\n",
    "    else:\n",
    "        sh.Top = sh_prev.Top + sh.Height\n",
    "    \n",
    "    sh_prev = sh\n",
    "    \n",
    "sh_tpt.Delete()"
   ]
  },
  {
   "cell_type": "code",
   "execution_count": 76,
   "id": "eb1c1e90",
   "metadata": {},
   "outputs": [],
   "source": [
    "sh_prev = sh_tpt\n",
    "for i, s in df.iterrows():\n",
    "    \n",
    "    sh = sh_prev if i==0 else sh_tpt.Duplicate()\n",
    "    \n",
    "    sh.Left = sh_prev.Left\n",
    "    sh.Top = sh_prev.Top\n",
    "    \n",
    "    # atualiza texto, titulo e cadeado\n",
    "    titulo = sh.GroupItems(\"titulo\")\n",
    "    titulo.TextFrame.TextRange.Text = s['titulo']\n",
    "    \n",
    "    texto = sh.GroupItems(\"texto\")\n",
    "    texto.TextFrame.TextRange.Text = s['texto']\n",
    "    \n",
    "    cadeado = sh.GroupItems(\"cadeado\")\n",
    "    cadeado.Visible = not s['aberto']\n",
    "    \n",
    "    # depois de colocar o texto, ajusta a posição vertical\n",
    "    if i>0:\n",
    "        sh.Top +=  sh.Height\n",
    "    \n",
    "    sh_prev = sh\n",
    "    \n",
    "    time.sleep(1)\n",
    "#sh_tpt.Delete()"
   ]
  },
  {
   "cell_type": "code",
   "execution_count": 60,
   "id": "69fb2fe3",
   "metadata": {},
   "outputs": [],
   "source": [
    "# soma da shape1.top + altura das outras shapes\n",
    "np.array([sh.Height for sh in slide.Shapes])\n",
    "np.array([sh.Top for sh in slide.Shapes])\n",
    "#ppt.PageSetup.SlideHeight = "
   ]
  },
  {
   "cell_type": "code",
   "execution_count": 126,
   "id": "33cd8aae",
   "metadata": {},
   "outputs": [],
   "source": [
    "s= 'ab<b>def<b>bbbbbb<b/>A<b/>ghi<b>aaaaa<b/>'"
   ]
  },
  {
   "cell_type": "code",
   "execution_count": 127,
   "id": "f19a2a6a",
   "metadata": {},
   "outputs": [
    {
     "data": {
      "text/plain": [
       "'ab<b>def<b>bbbbbb<b/>A<b/>ghi<b>aaaaa<b/>'"
      ]
     },
     "execution_count": 127,
     "metadata": {},
     "output_type": "execute_result"
    }
   ],
   "source": [
    "s"
   ]
  },
  {
   "cell_type": "code",
   "execution_count": 124,
   "id": "a92f7c0f",
   "metadata": {},
   "outputs": [
    {
     "data": {
      "text/plain": [
       "(2, 26, '<b>defxxxxxxxxxxxxxA<b/>')"
      ]
     },
     "execution_count": 124,
     "metadata": {},
     "output_type": "execute_result"
    }
   ],
   "source": [
    "def find_tag(s, tag = 'b'):\n",
    "    s2 = s\n",
    "    begin =  f'<{tag}>'\n",
    "    end =  f'<{tag}/>'\n",
    "    \n",
    "    # encontra a posição das tags\n",
    "    # remove as tags\n",
    "    # a posicao inicial nao muda\n",
    "    # a posição final -= len(tag_inicial)\n",
    "    \n",
    "    # encontra a 1a endtag\n",
    "    p_end = s2.find(end)\n",
    "    if p_end==-1: return None\n",
    "    s2 = s2.replace(end, '', count=1)\n",
    "    # encontra a 1a endtag\n",
    "    p_begin = s2[:p_end].rfind(begin)\n",
    "    if p_begin==-1: return None\n",
    "    s2 = s2[:p_end].replace(begin, '', count=1)\n",
    "\n",
    "    return p_begin, p_end, s[p_begin:p_end]\n",
    "\n",
    "s2 = s\n",
    "res = find_tag(s2, 'b')\n",
    "while res is not None:\n",
    "    \n",
    "    b, e, sub = \n",
    "    s2 = s.replace(sub, 'x'*len(sub))\n"
   ]
  },
  {
   "cell_type": "code",
   "execution_count": null,
   "id": "64caf913",
   "metadata": {},
   "outputs": [],
   "source": [
    "def remove_tag(s: str, tag='b'):\n",
    "    s"
   ]
  }
 ],
 "metadata": {
  "kernelspec": {
   "display_name": "Python 3",
   "language": "python",
   "name": "python3"
  },
  "language_info": {
   "codemirror_mode": {
    "name": "ipython",
    "version": 3
   },
   "file_extension": ".py",
   "mimetype": "text/x-python",
   "name": "python",
   "nbconvert_exporter": "python",
   "pygments_lexer": "ipython3",
   "version": "3.8.5"
  }
 },
 "nbformat": 4,
 "nbformat_minor": 5
}
